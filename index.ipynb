{
 "cells": [
  {
   "cell_type": "markdown",
   "metadata": {},
   "source": [
    "# Trove query parser\n",
    "\n",
    "> Convert a query from the Trove web interface into a set of parameters that can be used with the Trove API."
   ]
  },
  {
   "cell_type": "markdown",
   "metadata": {},
   "source": [
    "## Installation\n",
    "\n",
    "`pip install trove-query-parser`"
   ]
  },
  {
   "cell_type": "markdown",
   "metadata": {},
   "source": [
    "## How to use"
   ]
  },
  {
   "cell_type": "markdown",
   "metadata": {},
   "source": [
    "* Construct a search in the Trove 'Newspapers and Gazettes' category.\n",
    "* Copy the search url.\n",
    "* Feed the url to the `parse_query` function\n",
    "\n",
    "The second parameter to `parse_query` is the Trove API version number. The default is `2` for backwards compatibility."
   ]
  },
  {
   "cell_type": "code",
   "execution_count": null,
   "metadata": {},
   "outputs": [
    {
     "data": {
      "text/plain": [
       "{'q': 'wragge',\n",
       " 'l-artType': 'newspapers',\n",
       " 'l-state': ['Queensland'],\n",
       " 'l-category': ['Article'],\n",
       " 'l-illustrated': 'true',\n",
       " 'l-illtype': ['Cartoon'],\n",
       " 'category': 'newspaper'}"
      ]
     },
     "execution_count": null,
     "metadata": {},
     "output_type": "execute_result"
    }
   ],
   "source": [
    "from trove_query_parser.parser import parse_query\n",
    "\n",
    "parse_query('https://trove.nla.gov.au/search/category/newspapers?keyword=wragge&l-artType=newspapers&l-state=Queensland&l-category=Article&l-illustrationType=Cartoon', 3)"
   ]
  },
  {
   "cell_type": "markdown",
   "metadata": {},
   "source": [
    "See the [documentation](https://wragge.github.io/trove_query_parser/) for a more detailed example."
   ]
  },
  {
   "cell_type": "markdown",
   "metadata": {},
   "source": [
    "## Limitations\n",
    "\n",
    "Currently this only works with the 'Newspapers & Gazettes' category. Other categories may be added in time."
   ]
  },
  {
   "cell_type": "markdown",
   "metadata": {},
   "source": [
    "----\n",
    "\n",
    "Created by [Tim Sherratt](https://timsherratt.org) ([@wragge](https://twitter.com/wragge)) for the [GLAM Workbench](https://glam-workbench.net/)."
   ]
  }
 ],
 "metadata": {
  "kernelspec": {
   "display_name": "Python 3 (ipykernel)",
   "language": "python",
   "name": "python3"
  }
 },
 "nbformat": 4,
 "nbformat_minor": 4
}
